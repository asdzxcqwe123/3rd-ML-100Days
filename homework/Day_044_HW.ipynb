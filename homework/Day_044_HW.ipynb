{
 "cells": [
  {
   "cell_type": "markdown",
   "metadata": {},
   "source": [
    "## [作業重點]\n",
    "確保你了解隨機森林模型中每個超參數的意義，並觀察調整超參數對結果的影響"
   ]
  },
  {
   "cell_type": "markdown",
   "metadata": {},
   "source": [
    "## 作業\n",
    "\n",
    "1. 試著調整 RandomForestClassifier(...) 中的參數，並觀察是否會改變結果？\n",
    "2. 改用其他資料集 (boston, wine)，並與回歸模型與決策樹的結果進行比較"
   ]
  },
  {
   "cell_type": "code",
   "execution_count": 1,
   "metadata": {},
   "outputs": [],
   "source": [
    "from sklearn import datasets, metrics\n",
    "from sklearn.ensemble import RandomForestClassifier\n",
    "from sklearn.model_selection import train_test_split"
   ]
  },
  {
   "cell_type": "code",
   "execution_count": 44,
   "metadata": {},
   "outputs": [
    {
     "name": "stdout",
     "output_type": "stream",
     "text": [
      "Accuracy:  0.9736842105263158 \n",
      "\n",
      "['sepal length (cm)', 'sepal width (cm)', 'petal length (cm)', 'petal width (cm)'] \n",
      "\n",
      "Feature importance:  [0.08276404 0.01940681 0.39744341 0.50038574] \n",
      "\n"
     ]
    }
   ],
   "source": [
    "# 讀取資料集\n",
    "iris = datasets.load_iris()\n",
    "# 切分訓練集/測試集\n",
    "x_train, x_test, y_train, y_test = train_test_split(iris.data, iris.target, test_size=0.25, random_state=4)\n",
    "# 建立模型 (使用 20 顆樹，每棵樹的最大深度為 4)\n",
    "clf_20_4 = RandomForestClassifier(n_estimators=20, max_depth=4)\n",
    "# 訓練模型\n",
    "clf_20_4.fit(x_train, y_train)\n",
    "# 預測測試集\n",
    "y_pred = clf_20_4.predict(x_test)\n",
    "acc_20_4 = metrics.accuracy_score(y_test, y_pred)\n",
    "print(\"Accuracy: \", acc_20_4,'\\n')\n",
    "print(iris.feature_names,'\\n')\n",
    "print(\"Feature importance: \", clf_20_4.feature_importances_,'\\n')"
   ]
  },
  {
   "cell_type": "code",
   "execution_count": 47,
   "metadata": {},
   "outputs": [
    {
     "name": "stdout",
     "output_type": "stream",
     "text": [
      "Accuracy:  0.9473684210526315 \n",
      "\n",
      "['sepal length (cm)', 'sepal width (cm)', 'petal length (cm)', 'petal width (cm)'] \n",
      "\n",
      "Feature importance:  [0.2 0.  0.4 0.4] \n",
      "\n"
     ]
    }
   ],
   "source": [
    "# 讀取資料集\n",
    "iris = datasets.load_iris()\n",
    "# 切分訓練集/測試集\n",
    "x_train, x_test, y_train, y_test = train_test_split(iris.data, iris.target, test_size=0.25, random_state=4)\n",
    "# 建立模型 (使用 5 顆樹，每棵樹的最大深度為 1)\n",
    "clf_05_1 = RandomForestClassifier(n_estimators=5, max_depth=1)\n",
    "# 訓練模型\n",
    "clf_05_1.fit(x_train, y_train)\n",
    "# 預測測試集\n",
    "y_pred = clf_05_1.predict(x_test)\n",
    "acc_05_1 = metrics.accuracy_score(y_test, y_pred)\n",
    "print(\"Accuracy: \", acc_05_1,'\\n')\n",
    "print(iris.feature_names,'\\n')\n",
    "print(\"Feature importance: \", clf_05_1.feature_importances_,'\\n')"
   ]
  },
  {
   "cell_type": "code",
   "execution_count": 48,
   "metadata": {},
   "outputs": [
    {
     "name": "stdout",
     "output_type": "stream",
     "text": [
      "Accuracy:  0.9736842105263158 \n",
      "\n",
      "['sepal length (cm)', 'sepal width (cm)', 'petal length (cm)', 'petal width (cm)'] \n",
      "\n",
      "Feature importance:  [0.14354964 0.04101094 0.45508129 0.36035813] \n",
      "\n"
     ]
    }
   ],
   "source": [
    "# 讀取資料集\n",
    "iris = datasets.load_iris()\n",
    "# 切分訓練集/測試集\n",
    "x_train, x_test, y_train, y_test = train_test_split(iris.data, iris.target, test_size=0.25, random_state=4)\n",
    "# 建立模型 (使用 20 顆樹，每棵樹的最大深度為 8)\n",
    "clf_20_8 = RandomForestClassifier(n_estimators=20, max_depth=8)\n",
    "# 訓練模型\n",
    "clf_20_8.fit(x_train, y_train)\n",
    "# 預測測試集\n",
    "y_pred = clf_20_8.predict(x_test)\n",
    "acc_20_8 = metrics.accuracy_score(y_test, y_pred)\n",
    "print(\"Accuracy: \", acc_20_8,'\\n')\n",
    "print(iris.feature_names,'\\n')\n",
    "print(\"Feature importance: \", clf_20_8.feature_importances_,'\\n')"
   ]
  },
  {
   "cell_type": "code",
   "execution_count": 49,
   "metadata": {},
   "outputs": [],
   "source": [
    "from sklearn.tree import DecisionTreeRegressor"
   ]
  },
  {
   "cell_type": "code",
   "execution_count": 62,
   "metadata": {},
   "outputs": [
    {
     "name": "stdout",
     "output_type": "stream",
     "text": [
      "Accuracy:  0.9555555555555556 \n",
      "\n",
      "['alcohol', 'malic_acid', 'ash', 'alcalinity_of_ash', 'magnesium', 'total_phenols', 'flavanoids', 'nonflavanoid_phenols', 'proanthocyanins', 'color_intensity', 'hue', 'od280/od315_of_diluted_wines', 'proline'] \n",
      "\n",
      "Feature importance:  [0.00985672 0.         0.         0.00299987 0.03685556 0.\n",
      " 0.61367513 0.         0.         0.08462354 0.         0.\n",
      " 0.25198917] \n",
      "\n",
      "----------------------\n",
      "Accuracy:  0.9555555555555556 \n",
      "\n",
      "['alcohol', 'malic_acid', 'ash', 'alcalinity_of_ash', 'magnesium', 'total_phenols', 'flavanoids', 'nonflavanoid_phenols', 'proanthocyanins', 'color_intensity', 'hue', 'od280/od315_of_diluted_wines', 'proline'] \n",
      "\n",
      "Feature importance:  [0.         0.00299987 0.         0.         0.03685556 0.\n",
      " 0.61367513 0.         0.         0.09448026 0.         0.\n",
      " 0.25198917] \n",
      "\n"
     ]
    }
   ],
   "source": [
    "# 讀取資料集\n",
    "wine = datasets.load_wine()\n",
    "# 切分訓練集/測試集\n",
    "x_train, x_test, y_train, y_test = train_test_split(wine.data, wine.target, test_size=0.25, random_state=4)\n",
    "# 建立模型 ()\n",
    "clf_4 = DecisionTreeRegressor(max_depth=4)\n",
    "clf_8 = DecisionTreeRegressor(max_depth=8)\n",
    "# 訓練模型\n",
    "clf_4.fit(x_train, y_train)\n",
    "clf_8.fit(x_train, y_train)\n",
    "# 預測測試集\n",
    "y_pred_wine_4 = clf_4.predict(x_test)\n",
    "y_pred_wine_8 = clf_8.predict(x_test)\n",
    "acc_4 = metrics.accuracy_score(y_test, y_pred_wine_4)\n",
    "acc_8 = metrics.accuracy_score(y_test, y_pred_wine_8)\n",
    "print(\"Accuracy: \", acc_4,'\\n')\n",
    "print(wine.feature_names,'\\n')\n",
    "print(\"Feature importance: \", clf_4.feature_importances_,'\\n')\n",
    "print('----------------------')\n",
    "print(\"Accuracy: \", acc_8,'\\n')\n",
    "print(wine.feature_names,'\\n')\n",
    "print(\"Feature importance: \", clf_8.feature_importances_,'\\n')"
   ]
  },
  {
   "cell_type": "code",
   "execution_count": null,
   "metadata": {},
   "outputs": [],
   "source": []
  }
 ],
 "metadata": {
  "kernelspec": {
   "display_name": "Python 3",
   "language": "python",
   "name": "python3"
  },
  "language_info": {
   "codemirror_mode": {
    "name": "ipython",
    "version": 3
   },
   "file_extension": ".py",
   "mimetype": "text/x-python",
   "name": "python",
   "nbconvert_exporter": "python",
   "pygments_lexer": "ipython3",
   "version": "3.7.3"
  }
 },
 "nbformat": 4,
 "nbformat_minor": 2
}
