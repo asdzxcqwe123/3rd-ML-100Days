{
 "cells": [
  {
   "cell_type": "markdown",
   "metadata": {},
   "source": [
    "## 練習時間"
   ]
  },
  {
   "cell_type": "markdown",
   "metadata": {},
   "source": [
    "請觀看李宏毅教授以神奇寶貝進化 CP 值預測的範例，解說何謂機器學習與過擬合。並回答以下問題"
   ]
  },
  {
   "cell_type": "markdown",
   "metadata": {},
   "source": [
    "[youtube](https://www.youtube.com/watch?v=fegAeph9UaA)"
   ]
  },
  {
   "cell_type": "markdown",
   "metadata": {},
   "source": [
    "#### 1. 模型的泛化能力 (generalization) 是指什麼？\n",
    "模型的泛化能力:指機器學習中之模型對於新樣本之適應能力，透過學習了解數據背後的規律，進而對於新樣本的輸出能力。                    \n",
    "#### 2. 分類問題與回歸問題分別可用的目標函數有那些？\n",
    "分類問題:\n",
    "Logistic-交叉熵損失函數\n",
    "Softmax-交叉熵損失函數\n",
    "Hinge Loss\n",
    "Perceptron Loss\n",
    "Squared Hinge Loss\n",
    "Log Loss\n",
    "回歸問題:\n",
    "均方誤差 (MSE)\n",
    "平均絕對誤差（MAE）\n",
    " Huber 損失\n",
    " Log-Cosh 損失\n",
    " 分量損失"
   ]
  },
  {
   "cell_type": "code",
   "execution_count": null,
   "metadata": {},
   "outputs": [],
   "source": []
  }
 ],
 "metadata": {
  "kernelspec": {
   "display_name": "Python 3",
   "language": "python",
   "name": "python3"
  },
  "language_info": {
   "codemirror_mode": {
    "name": "ipython",
    "version": 3
   },
   "file_extension": ".py",
   "mimetype": "text/x-python",
   "name": "python",
   "nbconvert_exporter": "python",
   "pygments_lexer": "ipython3",
   "version": "3.7.3"
  }
 },
 "nbformat": 4,
 "nbformat_minor": 2
}
