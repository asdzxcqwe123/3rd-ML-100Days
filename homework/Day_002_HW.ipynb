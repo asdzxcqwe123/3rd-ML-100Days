{
 "cells": [
  {
   "cell_type": "markdown",
   "metadata": {},
   "source": [
    "## [作業目標]\n",
    "了解機器學習適合應用的領域與範疇。"
   ]
  },
  {
   "cell_type": "markdown",
   "metadata": {},
   "source": [
    "## [作業重點]\n",
    "透過瞭解機器學習的運作方式，找出非常適用機器學習應用的領域及其原因"
   ]
  },
  {
   "cell_type": "markdown",
   "metadata": {},
   "source": [
    "## 作業\n",
    "請找出一個你認為機器學習可以發光發熱的領域並闡述原因? \n",
    "根據本日教材了解到，深度學習(DL)為機器學習的一部分，機器學習(ML)為人工智慧(AI)的一部分。而機器學習的成效會與設備之規格有相關，例如:\n",
    "GPU、CPU、網路傳輸速度等，也會與其資料數量、關聯性等息息相關。\n",
    "機器學習又可以大致三種學習為監督學習、非監督學習及增強學習等部分。\n",
    "在現在之設備規格、成本、時間等因素考量之下，應用於一般民眾之生活領域之特化型之機器學習，為了某一種目的而存在的，EX:為圍棋而生的Alpha go 等取向之應用。於特定範圍取得領先地位之後，透過其有目的的擴大其應用範圍。\n",
    "個人想到之應用領域有兩個，智慧型家庭及居家安全。\n",
    "智慧型家庭及居家安全\n",
    "對於居住地方對人類來說，功能為睡覺、休息、煮飯吃飯等功能。首先透過機器學習了解人類於各個房間經常會做的事情，並進行輔助，例如廚房煮飯時，可能會有瓦斯外洩、用火不當等危險發生，可以於事前偵測到相關氣體或溫度異常等，預先關掉瓦斯或電磁爐等，也可以提供食譜及烹飪時間提醒等。\n",
    "於居家安全，對於無人在家之情況，若有人拜訪，可以提供信息給家裡主人，來選擇應對措施，例如:推銷員，可以拒絕它或是預約下次拜訪時間，小偷嘗試破壞大門時，可以發出警報聲及報警等功能。\n",
    "亦可提供一些個人化設定給智慧管家，給一般民眾更為便利及安全的生活。\n"
   ]
  },
  {
   "cell_type": "code",
   "execution_count": null,
   "metadata": {},
   "outputs": [],
   "source": [
    "   "
   ]
  }
 ],
 "metadata": {
  "kernelspec": {
   "display_name": "Python 3",
   "language": "python",
   "name": "python3"
  },
  "language_info": {
   "codemirror_mode": {
    "name": "ipython",
    "version": 3
   },
   "file_extension": ".py",
   "mimetype": "text/x-python",
   "name": "python",
   "nbconvert_exporter": "python",
   "pygments_lexer": "ipython3",
   "version": "3.7.3"
  }
 },
 "nbformat": 4,
 "nbformat_minor": 2
}
