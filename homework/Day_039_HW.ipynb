{
 "cells": [
  {
   "cell_type": "markdown",
   "metadata": {},
   "source": [
    "## [作業重點]\n",
    "清楚了解 L1, L2 的意義與差異為何，並了解 LASSO 與 Ridge 之間的差異與使用情境"
   ]
  },
  {
   "cell_type": "markdown",
   "metadata": {},
   "source": [
    "## 作業"
   ]
  },
  {
   "cell_type": "markdown",
   "metadata": {},
   "source": [
    "請閱讀相關文獻，並回答下列問題\n",
    "\n",
    "[脊回歸 (Ridge Regression)](https://blog.csdn.net/daunxx/article/details/51578787)\n",
    "[Linear, Ridge, Lasso Regression 本質區別](https://www.zhihu.com/question/38121173)\n",
    "\n",
    "1. LASSO 回歸可以被用來作為 Feature selection 的工具，請了解 LASSO 模型為什麼可用來作 Feature selection\n",
    "2. 當自變數 (X) 存在高度共線性時，Ridge Regression 可以處理這樣的問題嗎?\n"
   ]
  },
  {
   "cell_type": "markdown",
   "metadata": {},
   "source": [
    "1.ANS:\n",
    "根據參考資料裡面所提到，回歸方程式出現過擬合(overfitting)情況，像次之係數會出現過大的情況，直覺上，篩選過擬合(overfitting)情況，對於過大係數進行處罰，根據LASSO之處罰方式為在OLS擬合的基礎上，對其係數的絕對值進行懲罰，固有下列特點:，適合作Feature selection\n",
    "-隨著懲罰力度alpha的增加越來越多的係數變成了0\n",
    "-係數確實很好的控制在合理區間，以截距項跟一階項為例，大致都在1到0.X之間。\n",
    "-隨著懲罰力度的增加擬合越來越差，到最後RSS到了37，出現了擬合不足（underfitting）的問題。\n",
    "參考資料:https://www.zhihu.com/question/38121173"
   ]
  },
  {
   "cell_type": "markdown",
   "metadata": {},
   "source": [
    "2.ANS:\n",
    "檢驗共線性:\n",
    "i.容忍度（Tolerance）：容忍度是每個自變數作為因變數對其他自變數進行迴歸建模時得到的殘差比例，大小用1減得到的決定係數來表示。容忍度值越小說明這個自變數與其他自變數間越可能存在共線性問題。\n",
    "ii.方差膨脹因子 VIF是容忍度的倒數，值越大則共線性問題越明顯，通常以10作為判斷邊界。當VIF<10,不存在多重共線性；當10<=VIF<100,存在較強的多重共線性；當VIF>=100, 存在嚴重多重共線性。\n",
    "iii.特徵值（Eigenvalue）：該方法實際上就是對自變數做主成分分析，如果多個維度的特徵值等於0，則可能有比較嚴重的共線性。\n",
    "相關係數：如果相關係數R>0.8時就可能存在較強相關性\n",
    "解決共線性方式:\n",
    "i.增大樣本量：增大樣本量可以消除猶豫資料量不足而出現的偶然的共線性現象，在可行的前提下這種方法是需要優先考慮的\n",
    "ii.嶺迴歸法（Ridge Regression）：實際上是一種改良最小二乘估計法。通過放棄最小二乘法的無偏性，以損失部分資訊、\n",
    "降低精度為代價來獲得更實際和可靠性更強的迴歸係數。因此嶺迴歸在存在較強共線性的迴歸應用中較為常用。"
   ]
  }
 ],
 "metadata": {
  "kernelspec": {
   "display_name": "Python 3",
   "language": "python",
   "name": "python3"
  },
  "language_info": {
   "codemirror_mode": {
    "name": "ipython",
    "version": 3
   },
   "file_extension": ".py",
   "mimetype": "text/x-python",
   "name": "python",
   "nbconvert_exporter": "python",
   "pygments_lexer": "ipython3",
   "version": "3.7.3"
  }
 },
 "nbformat": 4,
 "nbformat_minor": 2
}
