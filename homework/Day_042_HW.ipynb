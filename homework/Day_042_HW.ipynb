{
 "cells": [
  {
   "cell_type": "markdown",
   "metadata": {},
   "source": [
    "## [作業重點]\n",
    "目前你應該已經要很清楚資料集中，資料的型態是什麼樣子囉！包含特徵 (features) 與標籤 (labels)。因此要記得未來不管什麼專案，必須要把資料清理成相同的格式，才能送進模型訓練。\n",
    "今天的作業開始踏入決策樹這個非常重要的模型，請務必確保你理解模型中每個超參數的意思，並試著調整看看，對最終預測結果的影響為何"
   ]
  },
  {
   "cell_type": "markdown",
   "metadata": {},
   "source": [
    "## 作業\n",
    "\n",
    "1. 試著調整 DecisionTreeClassifier(...) 中的參數，並觀察是否會改變結果？\n",
    "2. 改用其他資料集 (boston, wine)，並與回歸模型的結果進行比較"
   ]
  },
  {
   "cell_type": "code",
   "execution_count": 43,
   "metadata": {},
   "outputs": [],
   "source": [
    "from sklearn import datasets, metrics\n",
    "from sklearn.tree import DecisionTreeClassifier, DecisionTreeRegressor\n",
    "from sklearn.model_selection import train_test_split\n",
    "from sklearn.metrics import mean_squared_error, r2_score, accuracy_score\n",
    "import matplotlib.pyplot as plt\n",
    "import numpy as np"
   ]
  },
  {
   "cell_type": "code",
   "execution_count": 44,
   "metadata": {},
   "outputs": [
    {
     "name": "stdout",
     "output_type": "stream",
     "text": [
      "Mean squared error: 27.03\n",
      "['CRIM' 'ZN' 'INDUS' 'CHAS' 'NOX' 'RM' 'AGE' 'DIS' 'RAD' 'TAX' 'PTRATIO'\n",
      " 'B' 'LSTAT']\n",
      "Feature importance:  [6.52979974e-02 1.97505025e-03 1.73407816e-03 5.16062560e-05\n",
      " 3.47442553e-02 5.41372366e-01 1.39626588e-02 6.68825775e-02\n",
      " 4.56859240e-04 1.48417244e-02 2.49774086e-02 1.11060665e-02\n",
      " 2.22597351e-01]\n"
     ]
    }
   ],
   "source": [
    "# 讀取 boston房價資料集\n",
    "boston = datasets.load_boston()\n",
    "# 切分訓練集/測試集\n",
    "x_train, x_test, y_train, y_test = train_test_split(boston.data, boston.target, test_size=0.25, random_state=4)\n",
    "# 建立模型\n",
    "clf = DecisionTreeRegressor()\n",
    "clf_2=DecisionTreeRegressor(max_depth=2)\n",
    "clf_5=DecisionTreeRegressor(max_depth=5)\n",
    "clf_8=DecisionTreeRegressor(max_depth=8)\n",
    "# 訓練模型\n",
    "clf.fit(x_train, y_train)\n",
    "clf_2.fit(x_train,y_train)\n",
    "clf_5.fit(x_train,y_train)\n",
    "clf_8.fit(x_train,y_train)\n",
    "# 預測測試集\n",
    "y_pred = clf.predict(x_test)\n",
    "print(\"Mean squared error: %.2f\"\n",
    "      % mean_squared_error(y_test, y_pred))\n",
    "print(boston.feature_names)\n",
    "print(\"Feature importance: \", clf.feature_importances_)"
   ]
  },
  {
   "cell_type": "code",
   "execution_count": 45,
   "metadata": {},
   "outputs": [
    {
     "name": "stdout",
     "output_type": "stream",
     "text": [
      "Mean squared error: 27.03\n",
      "['CRIM' 'ZN' 'INDUS' 'CHAS' 'NOX' 'RM' 'AGE' 'DIS' 'RAD' 'TAX' 'PTRATIO'\n",
      " 'B' 'LSTAT']\n",
      "Feature importance:  [0.         0.         0.         0.         0.         0.70732394\n",
      " 0.         0.         0.         0.         0.         0.\n",
      " 0.29267606]\n"
     ]
    }
   ],
   "source": [
    "y_pred_2 = clf_2.predict(x_test)\n",
    "print(\"Mean squared error: %.2f\"\n",
    "      % mean_squared_error(y_test, y_pred))\n",
    "print(boston.feature_names)\n",
    "print(\"Feature importance: \", clf_2.feature_importances_)"
   ]
  },
  {
   "cell_type": "code",
   "execution_count": 46,
   "metadata": {},
   "outputs": [
    {
     "name": "stdout",
     "output_type": "stream",
     "text": [
      "Mean squared error: 27.03\n",
      "['CRIM' 'ZN' 'INDUS' 'CHAS' 'NOX' 'RM' 'AGE' 'DIS' 'RAD' 'TAX' 'PTRATIO'\n",
      " 'B' 'LSTAT']\n",
      "Feature importance:  [0.0749775  0.         0.         0.         0.02428222 0.58656601\n",
      " 0.00148896 0.05641972 0.         0.         0.02040903 0.00325096\n",
      " 0.23260561]\n"
     ]
    }
   ],
   "source": [
    "y_pred_5 = clf_5.predict(x_test)\n",
    "print(\"Mean squared error: %.2f\"\n",
    "      % mean_squared_error(y_test, y_pred))\n",
    "print(boston.feature_names)\n",
    "print(\"Feature importance: \", clf_5.feature_importances_)"
   ]
  },
  {
   "cell_type": "code",
   "execution_count": 47,
   "metadata": {},
   "outputs": [
    {
     "name": "stdout",
     "output_type": "stream",
     "text": [
      "Mean squared error: 27.03\n",
      "['CRIM' 'ZN' 'INDUS' 'CHAS' 'NOX' 'RM' 'AGE' 'DIS' 'RAD' 'TAX' 'PTRATIO'\n",
      " 'B' 'LSTAT']\n",
      "Feature importance:  [6.39965854e-02 0.00000000e+00 7.86677400e-03 6.93429526e-04\n",
      " 3.08276289e-02 5.54544185e-01 9.74756420e-03 6.68328800e-02\n",
      " 4.20051012e-04 9.65031786e-03 1.83116115e-02 1.21589828e-02\n",
      " 2.24949989e-01]\n"
     ]
    }
   ],
   "source": [
    "y_pred_8 = clf_8.predict(x_test)\n",
    "print(\"Mean squared error: %.2f\"\n",
    "      % mean_squared_error(y_test, y_pred))\n",
    "print(boston.feature_names)\n",
    "print(\"Feature importance: \", clf_8.feature_importances_)"
   ]
  },
  {
   "cell_type": "code",
   "execution_count": 48,
   "metadata": {},
   "outputs": [
    {
     "name": "stdout",
     "output_type": "stream",
     "text": [
      "Acuuracy:  0.8888888888888888\n",
      "['alcohol', 'malic_acid', 'ash', 'alcalinity_of_ash', 'magnesium', 'total_phenols', 'flavanoids', 'nonflavanoid_phenols', 'proanthocyanins', 'color_intensity', 'hue', 'od280/od315_of_diluted_wines', 'proline']\n",
      "Feature importance:  [0.01364138 0.04922508 0.         0.         0.04405085 0.08158611\n",
      " 0.04296585 0.         0.         0.33702516 0.         0.04285558\n",
      " 0.38865   ]\n"
     ]
    }
   ],
   "source": [
    "# 讀取 wine資料集\n",
    "wine = datasets.load_wine()\n",
    "# 切分訓練集/測試集\n",
    "x_train, x_test, y_train, y_test = train_test_split(wine.data, wine.target, test_size=0.25, random_state=4)\n",
    "# 建立模型\n",
    "dlf = DecisionTreeClassifier(criterion='gini')\n",
    "# 訓練模型\n",
    "dlf.fit(x_train, y_train)\n",
    "# 預測測試集\n",
    "y_pred = dlf.predict(x_test)\n",
    "acc_wine = metrics.accuracy_score(y_test, y_pred)\n",
    "print(\"Acuuracy: \", acc_wine)\n",
    "print(wine.feature_names)\n",
    "print(\"Feature importance: \", dlf.feature_importances_)"
   ]
  },
  {
   "cell_type": "code",
   "execution_count": 49,
   "metadata": {},
   "outputs": [
    {
     "name": "stdout",
     "output_type": "stream",
     "text": [
      "Acuuracy:  0.9555555555555556\n",
      "['alcohol', 'malic_acid', 'ash', 'alcalinity_of_ash', 'magnesium', 'total_phenols', 'flavanoids', 'nonflavanoid_phenols', 'proanthocyanins', 'color_intensity', 'hue', 'od280/od315_of_diluted_wines', 'proline']\n",
      "Feature importance:  [0.         0.01794699 0.         0.         0.07749455 0.\n",
      " 0.41359716 0.         0.         0.14140525 0.         0.\n",
      " 0.34955604]\n"
     ]
    }
   ],
   "source": [
    "# 建立模型\n",
    "dlf = DecisionTreeClassifier(criterion='entropy')\n",
    "# 訓練模型\n",
    "dlf.fit(x_train, y_train)\n",
    "# 預測測試集\n",
    "y_pred = dlf.predict(x_test)\n",
    "acc_wine = metrics.accuracy_score(y_test, y_pred)\n",
    "print(\"Acuuracy: \", acc_wine)\n",
    "print(wine.feature_names)\n",
    "print(\"Feature importance: \", dlf.feature_importances_)"
   ]
  },
  {
   "cell_type": "code",
   "execution_count": null,
   "metadata": {},
   "outputs": [],
   "source": []
  }
 ],
 "metadata": {
  "kernelspec": {
   "display_name": "Python 3",
   "language": "python",
   "name": "python3"
  },
  "language_info": {
   "codemirror_mode": {
    "name": "ipython",
    "version": 3
   },
   "file_extension": ".py",
   "mimetype": "text/x-python",
   "name": "python",
   "nbconvert_exporter": "python",
   "pygments_lexer": "ipython3",
   "version": "3.7.3"
  }
 },
 "nbformat": 4,
 "nbformat_minor": 2
}
